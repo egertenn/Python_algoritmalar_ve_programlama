{
  "nbformat": 4,
  "nbformat_minor": 0,
  "metadata": {
    "colab": {
      "provenance": []
    },
    "kernelspec": {
      "name": "python3",
      "display_name": "Python 3"
    },
    "language_info": {
      "name": "python"
    }
  },
  "cells": [
    {
      "cell_type": "code",
      "execution_count": 1,
      "metadata": {
        "colab": {
          "base_uri": "https://localhost:8080/"
        },
        "id": "-N5_aWuLXd7i",
        "outputId": "0b368ba7-b0a6-4090-95bd-f357865ae337"
      },
      "outputs": [
        {
          "output_type": "stream",
          "name": "stdout",
          "text": [
            "Merhaba, Python Veri Yapıları ve Algoritmalar / Ders 3\n"
          ]
        }
      ],
      "source": [
        "\n",
        "print(\"Merhaba, Python Veri Yapıları ve Algoritmalar / Ders 3\")"
      ]
    },
    {
      "cell_type": "code",
      "source": [
        "import sys  # import python programlama dilinde yazılıma kütüphane eklemeye yarayan bir kod blogudur.\n",
        "print(sys.version)"
      ],
      "metadata": {
        "colab": {
          "base_uri": "https://localhost:8080/"
        },
        "id": "hR8hp0N0XqWp",
        "outputId": "f4e37e87-671a-4d3c-a6a4-b325b799d4c4"
      },
      "execution_count": 2,
      "outputs": [
        {
          "output_type": "stream",
          "name": "stdout",
          "text": [
            "3.11.11 (main, Dec  4 2024, 08:55:07) [GCC 11.4.0]\n"
          ]
        }
      ]
    },
    {
      "cell_type": "code",
      "source": [
        "from google.colab import drive # google colab - drive bağlantısı\n",
        "drive.mount('/content/drive')"
      ],
      "metadata": {
        "colab": {
          "base_uri": "https://localhost:8080/"
        },
        "id": "nAEcVLJ7XqgQ",
        "outputId": "67a40486-9e48-44c2-b640-3aea8054c172"
      },
      "execution_count": 3,
      "outputs": [
        {
          "output_type": "stream",
          "name": "stdout",
          "text": [
            "Mounted at /content/drive\n"
          ]
        }
      ]
    },
    {
      "cell_type": "code",
      "source": [
        "import os\n",
        "os.chdir('/content/drive/My Drive/ALGORITMALAR_MYO')"
      ],
      "metadata": {
        "id": "ggLxt0nHXz7j"
      },
      "execution_count": 4,
      "outputs": []
    },
    {
      "cell_type": "code",
      "source": [
        "degisken1 = 10\n",
        "Degisken2 = 20\n",
        "degisken_3 = 30\n",
        "_degisken_4 = 40\n",
        "print(degisken1)\n",
        "print(Degisken2)\n",
        "print(degisken_3)\n",
        "print(_degisken_4)"
      ],
      "metadata": {
        "colab": {
          "base_uri": "https://localhost:8080/"
        },
        "id": "8TH6cyHEceMW",
        "outputId": "ea876d3c-d9ad-4bf6-c42f-1462309b5e45"
      },
      "execution_count": 5,
      "outputs": [
        {
          "output_type": "stream",
          "name": "stdout",
          "text": [
            "10\n",
            "20\n",
            "30\n",
            "40\n"
          ]
        }
      ]
    },
    {
      "cell_type": "code",
      "source": [
        "1degisken = 50\n",
        "degisken1-4 = 50"
      ],
      "metadata": {
        "colab": {
          "base_uri": "https://localhost:8080/",
          "height": 106
        },
        "id": "EW4cH4vPeptQ",
        "outputId": "a090a3f8-8063-46ea-c392-565fb9e6cf6e"
      },
      "execution_count": 6,
      "outputs": [
        {
          "output_type": "error",
          "ename": "SyntaxError",
          "evalue": "invalid decimal literal (<ipython-input-6-70a2a52662ac>, line 1)",
          "traceback": [
            "\u001b[0;36m  File \u001b[0;32m\"<ipython-input-6-70a2a52662ac>\"\u001b[0;36m, line \u001b[0;32m1\u001b[0m\n\u001b[0;31m    1degisken = 50\u001b[0m\n\u001b[0m    ^\u001b[0m\n\u001b[0;31mSyntaxError\u001b[0m\u001b[0;31m:\u001b[0m invalid decimal literal\n"
          ]
        }
      ]
    },
    {
      "cell_type": "code",
      "source": [
        "x = 5\n",
        "y = \"Merhaba Dünya\"\n",
        "\n",
        "print(x)\n",
        "print(y)"
      ],
      "metadata": {
        "colab": {
          "base_uri": "https://localhost:8080/"
        },
        "id": "TMSHK1bMfrJD",
        "outputId": "de608455-dac4-4d80-ce3f-aa78551ee647"
      },
      "execution_count": 7,
      "outputs": [
        {
          "output_type": "stream",
          "name": "stdout",
          "text": [
            "5\n",
            "Merhaba Dünya\n"
          ]
        }
      ]
    },
    {
      "cell_type": "code",
      "source": [
        "a = 10\n",
        "\n",
        "print(type(a), a)"
      ],
      "metadata": {
        "colab": {
          "base_uri": "https://localhost:8080/"
        },
        "id": "J0VmWGEWISx9",
        "outputId": "f952092f-48f2-448b-dfcd-276ee0a3b71d"
      },
      "execution_count": 8,
      "outputs": [
        {
          "output_type": "stream",
          "name": "stdout",
          "text": [
            "<class 'int'> 10\n"
          ]
        }
      ]
    },
    {
      "cell_type": "markdown",
      "source": [
        "type = işaretleme programlama yerleştirme"
      ],
      "metadata": {
        "id": "ZhwGhXhoIZOU"
      }
    },
    {
      "cell_type": "markdown",
      "source": [],
      "metadata": {
        "id": "LGP7653JKid8"
      }
    },
    {
      "cell_type": "code",
      "source": [
        "b = 20.5\n",
        "\n",
        "print(type(b), b)"
      ],
      "metadata": {
        "colab": {
          "base_uri": "https://localhost:8080/"
        },
        "id": "b_MTIfnAIm2s",
        "outputId": "914d7d62-b7b3-4853-ce67-14c4f66b31f1"
      },
      "execution_count": 9,
      "outputs": [
        {
          "output_type": "stream",
          "name": "stdout",
          "text": [
            "<class 'float'> 20.5\n"
          ]
        }
      ]
    },
    {
      "cell_type": "markdown",
      "source": [
        "yukarıda olan yazıdan çıktısı nasıl gelir cvp float 20.5"
      ],
      "metadata": {
        "id": "WDSJziRMKh6k"
      }
    },
    {
      "cell_type": "code",
      "source": [
        "y = 10\n",
        "x = float(y)\n",
        "print(x, type(x))"
      ],
      "metadata": {
        "colab": {
          "base_uri": "https://localhost:8080/"
        },
        "id": "c2qmJS2QIrmV",
        "outputId": "992dbeda-e14e-4489-e250-e9a75158e90a"
      },
      "execution_count": 10,
      "outputs": [
        {
          "output_type": "stream",
          "name": "stdout",
          "text": [
            "10.0 <class 'float'>\n"
          ]
        }
      ]
    },
    {
      "cell_type": "code",
      "source": [
        "y = 10.74\n",
        "x = int(y)\n",
        "print(x, type(x))"
      ],
      "metadata": {
        "colab": {
          "base_uri": "https://localhost:8080/"
        },
        "id": "HNM_gvOBIzo8",
        "outputId": "eb9da8ae-3a06-4ce6-b55f-97c9c1c8aa86"
      },
      "execution_count": 11,
      "outputs": [
        {
          "output_type": "stream",
          "name": "stdout",
          "text": [
            "10 <class 'int'>\n"
          ]
        }
      ]
    },
    {
      "cell_type": "code",
      "source": [
        "c = \"Python Programlama\"\n",
        "print(c, type(c))"
      ],
      "metadata": {
        "colab": {
          "base_uri": "https://localhost:8080/"
        },
        "id": "mW699-_6I3dt",
        "outputId": "ee656f6e-a5d2-409c-d9a8-58a7b12916dd"
      },
      "execution_count": 12,
      "outputs": [
        {
          "output_type": "stream",
          "name": "stdout",
          "text": [
            "Python Programlama <class 'str'>\n"
          ]
        }
      ]
    },
    {
      "cell_type": "code",
      "source": [
        "# Boolean (True / Doğru - False / Yanlış) Değişken tanımlaması\n",
        "\n",
        "d = True # 1 - Aktif\n",
        "e = False # 0 - Pasif\n",
        "\n",
        "print(d)\n",
        "print(type(e))\n",
        ""
      ],
      "metadata": {
        "colab": {
          "base_uri": "https://localhost:8080/"
        },
        "id": "XDCejoG_Kdxd",
        "outputId": "0e6e6007-c5f5-445b-80ed-996abdae85f0"
      },
      "execution_count": 20,
      "outputs": [
        {
          "output_type": "stream",
          "name": "stdout",
          "text": [
            "True\n",
            "<class 'bool'>\n"
          ]
        }
      ]
    },
    {
      "cell_type": "code",
      "source": [
        "# List - liste --> Dizi tanımlaması\n",
        "\n",
        "liste = [1, 2, 3, 4, 5]\n",
        "\n",
        "print(type(liste), liste)"
      ],
      "metadata": {
        "colab": {
          "base_uri": "https://localhost:8080/"
        },
        "id": "X_cdRyVRPJgt",
        "outputId": "567a6f45-de76-49c8-90c5-ada67eea103b"
      },
      "execution_count": 21,
      "outputs": [
        {
          "output_type": "stream",
          "name": "stdout",
          "text": [
            "<class 'list'> [1, 2, 3, 4, 5]\n"
          ]
        }
      ]
    },
    {
      "cell_type": "code",
      "source": [
        "# Demet - Tuple Veri Tipi Tanımlaması\n",
        "\n",
        "demet = (1, 2, 3, 4, 5)\n",
        "\n",
        "print(type(demet), demet)"
      ],
      "metadata": {
        "colab": {
          "base_uri": "https://localhost:8080/"
        },
        "id": "x8B2_9hOPMxd",
        "outputId": "03304d65-6ff1-4065-a6b2-c8674600a1a1"
      },
      "execution_count": 22,
      "outputs": [
        {
          "output_type": "stream",
          "name": "stdout",
          "text": [
            "<class 'tuple'> (1, 2, 3, 4, 5)\n"
          ]
        }
      ]
    },
    {
      "cell_type": "code",
      "source": [
        "\n",
        "# Dictionary - Sözlük Veri Tipi Tanımlaması --> Öğrenci Notlarını Tutan bir sözlük tanımlaması\n",
        "\n",
        "notlar = {\n",
        "    \"Ali\": 85,\n",
        "    \"Veli\": 90,\n",
        "    \"Ayşe\": 78\n",
        "}\n",
        "\n",
        "notlar[\"Fatma\"] = 95 # yeni öğrenci ekleme yöntemi\n",
        "notlar[\"Ali\"] = 88 # mevucttaki öğrencinin notunu günleme işlemi\n",
        "\n",
        "print(notlar)"
      ],
      "metadata": {
        "colab": {
          "base_uri": "https://localhost:8080/"
        },
        "id": "lQXERgj3POrN",
        "outputId": "706b188c-1938-44aa-854e-f18ae3db4415"
      },
      "execution_count": 23,
      "outputs": [
        {
          "output_type": "stream",
          "name": "stdout",
          "text": [
            "{'Ali': 88, 'Veli': 90, 'Ayşe': 78, 'Fatma': 95}\n"
          ]
        }
      ]
    },
    {
      "cell_type": "code",
      "source": [
        "print(notlar.keys())\n",
        "print(notlar.values())\n",
        "print(notlar.items())"
      ],
      "metadata": {
        "colab": {
          "base_uri": "https://localhost:8080/"
        },
        "id": "-h6Qre5uPRK8",
        "outputId": "b2a8d0fb-babe-4e44-d788-4b9af1e3e1e0"
      },
      "execution_count": 24,
      "outputs": [
        {
          "output_type": "stream",
          "name": "stdout",
          "text": [
            "dict_keys(['Ali', 'Veli', 'Ayşe', 'Fatma'])\n",
            "dict_values([88, 90, 78, 95])\n",
            "dict_items([('Ali', 88), ('Veli', 90), ('Ayşe', 78), ('Fatma', 95)])\n"
          ]
        }
      ]
    },
    {
      "cell_type": "code",
      "source": [
        "# Set Küme veri tipi\n",
        "\n",
        "kodyazanlar = {\"Ahmet\", \"Mehmet\", \"Ayşe\"}\n",
        "kodyazmayanlar = {\"Ayşe\", \"Fatma\", \"Veli\"}\n",
        "\n",
        "ortak = kodyazanlar.intersection(kodyazmayanlar)\n",
        "print(\"Kafasına Göre Takılan Arkadaşlar: \", ortak)\n",
        "\n",
        "kod_yazmayanlar = kodyazmayanlar.difference(kodyazanlar)\n",
        "print(\"Kod çalışması yapmayanlar: \", kod_yazmayanlar)\n",
        "\n",
        "imzalistesi = kodyazanlar.union(kodyazmayanlar)\n",
        "print(\"Sınıf İmza Listesi: \", imzalistesi)"
      ],
      "metadata": {
        "colab": {
          "base_uri": "https://localhost:8080/"
        },
        "id": "c55vOfU5PTcc",
        "outputId": "5c97595c-6fb6-4174-bdc0-1ad41f1ea6f5"
      },
      "execution_count": 25,
      "outputs": [
        {
          "output_type": "stream",
          "name": "stdout",
          "text": [
            "Kafasına Göre Takılan Arkadaşlar:  {'Ayşe'}\n",
            "Kod çalışması yapmayanlar:  {'Fatma', 'Veli'}\n",
            "Sınıf İmza Listesi:  {'Fatma', 'Mehmet', 'Ayşe', 'Veli', 'Ahmet'}\n"
          ]
        }
      ]
    },
    {
      "cell_type": "code",
      "source": [
        "\n",
        "giris = input(\"Bir Sayı Giriniz:\")\n",
        "\n",
        "print(giris)"
      ],
      "metadata": {
        "colab": {
          "base_uri": "https://localhost:8080/"
        },
        "id": "pT4QPcqfPZB8",
        "outputId": "a389940e-df39-4afb-dd6c-a5ad2ce69684"
      },
      "execution_count": 26,
      "outputs": [
        {
          "output_type": "stream",
          "name": "stdout",
          "text": [
            "Bir Sayı Giriniz:12345\n",
            "12345\n"
          ]
        }
      ]
    },
    {
      "cell_type": "code",
      "source": [
        "\n",
        "giris = input(\"Bir Sayı Giriniz:\")\n",
        "try:\n",
        "    numara = float(giris)\n",
        "    print(\"Girilen Sayı: \", numara)\n",
        "except ValueError:\n",
        "    print(\"Hatalı Bilgi Girişi Yaptınız Lütfen Tekrar Deneyiniz!\")"
      ],
      "metadata": {
        "colab": {
          "base_uri": "https://localhost:8080/"
        },
        "id": "rg0eOF_XPdol",
        "outputId": "096381a6-1008-4d2f-86b1-2aa0cf1e671e"
      },
      "execution_count": 27,
      "outputs": [
        {
          "output_type": "stream",
          "name": "stdout",
          "text": [
            "Bir Sayı Giriniz:a\n",
            "Hatalı Bilgi Girişi Yaptınız Lütfen Tekrar Deneyiniz!\n"
          ]
        }
      ]
    },
    {
      "cell_type": "code",
      "source": [
        "import random\n",
        "\n",
        "rastgele = random.random() # random fonksiyonu bize 0 ile 1 arasında rastgele bir sayı üreten fonksiyondur.\n",
        "\n",
        "print(\"Rastgele Gelen Deger: \", rastgele)\n",
        ""
      ],
      "metadata": {
        "colab": {
          "base_uri": "https://localhost:8080/"
        },
        "id": "mH8NZAc-Pib0",
        "outputId": "a8c650d7-4e0e-4673-b150-734ddb1cddb8"
      },
      "execution_count": 48,
      "outputs": [
        {
          "output_type": "stream",
          "name": "stdout",
          "text": [
            "Rastgele Gelen Deger:  0.20860735076887382\n"
          ]
        }
      ]
    },
    {
      "cell_type": "code",
      "source": [
        "import random\n",
        "\n",
        "rastgele2 = random.randint(1, 100) # randint fonksiyonu bize istediğimiz aralıkta rastgele bir sayı üreten fonksiyondur.\n",
        "\n",
        "print(\"Rastgele Gelen Deger: \", rastgele2)"
      ],
      "metadata": {
        "colab": {
          "base_uri": "https://localhost:8080/"
        },
        "id": "lZXrMwl1PmHE",
        "outputId": "25569780-a13e-4fae-c9a4-4a781d28ac59"
      },
      "execution_count": 38,
      "outputs": [
        {
          "output_type": "stream",
          "name": "stdout",
          "text": [
            "Rastgele Gelen Deger:  82\n"
          ]
        }
      ]
    }
  ]
}